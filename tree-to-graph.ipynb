{
 "cells": [
  {
   "cell_type": "code",
   "execution_count": 1,
   "metadata": {
    "collapsed": true
   },
   "outputs": [],
   "source": [
    "import json"
   ]
  },
  {
   "cell_type": "code",
   "execution_count": 2,
   "metadata": {
    "collapsed": false,
    "scrolled": true
   },
   "outputs": [
    {
     "data": {
      "text/plain": [
       "{'children': [{'children': [{'children': [],\n",
       "     'data': {'band': 'Pearl Jam &amp; Cypress Hill',\n",
       "      'relation': 'collaboration'},\n",
       "     'id': '84_2',\n",
       "     'name': 'Cypress Hill'}],\n",
       "   'data': {'$color': '#f00',\n",
       "    '$lineWidth': 10,\n",
       "    'band': 'Pearl Jam',\n",
       "    'relation': 'collaboration'},\n",
       "   'id': '306208_1',\n",
       "   'name': 'Pearl Jam &amp; Cypress Hill'},\n",
       "  {'children': [{'children': [],\n",
       "     'data': {'band': 'Neil Young &amp; Pearl Jam',\n",
       "      'relation': 'collaboration'},\n",
       "     'id': '964_4',\n",
       "     'name': 'Neil Young'}],\n",
       "   'data': {'band': 'Pearl Jam', 'relation': 'collaboration'},\n",
       "   'id': '107877_3',\n",
       "   'name': 'Neil Young &amp; Pearl Jam'},\n",
       "  {'children': [{'children': [],\n",
       "     'data': {'band': 'Jeff Ament', 'relation': 'member of band'},\n",
       "     'id': '1756_6',\n",
       "     'name': 'Temple of the Dog'},\n",
       "    {'children': [],\n",
       "     'data': {'band': 'Jeff Ament', 'relation': 'member of band'},\n",
       "     'id': '14581_7',\n",
       "     'name': 'Mother Love Bone'},\n",
       "    {'children': [],\n",
       "     'data': {'band': 'Jeff Ament', 'relation': 'member of band'},\n",
       "     'id': '50188_8',\n",
       "     'name': 'Green River'},\n",
       "    {'children': [],\n",
       "     'data': {'band': 'Jeff Ament', 'relation': 'collaboration'},\n",
       "     'id': '65452_9',\n",
       "     'name': 'M.A.C.C.'},\n",
       "    {'children': [],\n",
       "     'data': {'band': 'Jeff Ament', 'relation': 'member of band'},\n",
       "     'id': '115632_10',\n",
       "     'name': 'Three Fish'},\n",
       "    {'children': [],\n",
       "     'data': {'band': 'Jeff Ament', 'relation': 'member of band'},\n",
       "     'id': '346850_11',\n",
       "     'name': 'Gossman Project'}],\n",
       "   'data': {'band': 'Pearl Jam', 'relation': 'member of band'},\n",
       "   'id': '236797_5',\n",
       "   'name': 'Jeff Ament'},\n",
       "  {'children': [{'children': [],\n",
       "     'data': {'band': 'Stone Gossard', 'relation': 'member of band'},\n",
       "     'id': '1756_13',\n",
       "     'name': 'Temple of the Dog'},\n",
       "    {'children': [],\n",
       "     'data': {'band': 'Stone Gossard', 'relation': 'member of band'},\n",
       "     'id': '14581_14',\n",
       "     'name': 'Mother Love Bone'},\n",
       "    {'children': [],\n",
       "     'data': {'band': 'Stone Gossard', 'relation': 'member of band'},\n",
       "     'id': '24119_15',\n",
       "     'name': 'Brad'},\n",
       "    {'children': [],\n",
       "     'data': {'band': 'Stone Gossard', 'relation': 'member of band'},\n",
       "     'id': '50188_16',\n",
       "     'name': 'Green River'},\n",
       "    {'children': [],\n",
       "     'data': {'band': 'Stone Gossard', 'relation': 'member of band'},\n",
       "     'id': '346850_17',\n",
       "     'name': 'Gossman Project'}],\n",
       "   'data': {'band': 'Pearl Jam', 'relation': 'member of band'},\n",
       "   'id': '41529_12',\n",
       "   'name': 'Stone Gossard'},\n",
       "  {'children': [{'children': [],\n",
       "     'data': {'band': 'Eddie Vedder', 'relation': 'member of band'},\n",
       "     'id': '1756_19',\n",
       "     'name': 'Temple of the Dog'},\n",
       "    {'children': [],\n",
       "     'data': {'band': 'Eddie Vedder', 'relation': 'collaboration'},\n",
       "     'id': '72007_20',\n",
       "     'name': 'Eddie Vedder &amp; Zeke'},\n",
       "    {'children': [],\n",
       "     'data': {'band': 'Eddie Vedder', 'relation': 'member of band'},\n",
       "     'id': '236657_21',\n",
       "     'name': 'Bad Radio'},\n",
       "    {'children': [],\n",
       "     'data': {'band': 'Eddie Vedder', 'relation': 'collaboration'},\n",
       "     'id': '432176_22',\n",
       "     'name': 'Beck &amp; Eddie Vedder'}],\n",
       "   'data': {'band': 'Pearl Jam', 'relation': 'member of band'},\n",
       "   'id': '131161_18',\n",
       "   'name': 'Eddie Vedder'},\n",
       "  {'children': [{'children': [],\n",
       "     'data': {'band': 'Mike McCready', 'relation': 'member of band'},\n",
       "     'id': '1744_24',\n",
       "     'name': 'Mad Season'},\n",
       "    {'children': [],\n",
       "     'data': {'band': 'Mike McCready', 'relation': 'member of band'},\n",
       "     'id': '1756_25',\n",
       "     'name': 'Temple of the Dog'},\n",
       "    {'children': [],\n",
       "     'data': {'band': 'Mike McCready', 'relation': 'collaboration'},\n",
       "     'id': '43661_26',\n",
       "     'name': '$10,000 Gold Chain'},\n",
       "    {'children': [],\n",
       "     'data': {'band': 'Mike McCready', 'relation': 'collaboration'},\n",
       "     'id': '65452_27',\n",
       "     'name': 'M.A.C.C.'},\n",
       "    {'children': [],\n",
       "     'data': {'band': 'Mike McCready', 'relation': 'member of band'},\n",
       "     'id': '153766_28',\n",
       "     'name': 'The Rockfords'},\n",
       "    {'children': [],\n",
       "     'data': {'band': 'Mike McCready', 'relation': 'member of band'},\n",
       "     'id': '346850_29',\n",
       "     'name': 'Gossman Project'}],\n",
       "   'data': {'band': 'Pearl Jam', 'relation': 'member of band'},\n",
       "   'id': '236583_23',\n",
       "   'name': 'Mike McCready'},\n",
       "  {'children': [{'children': [],\n",
       "     'data': {'band': 'Matt Cameron', 'relation': 'member of band'},\n",
       "     'id': '1111_31',\n",
       "     'name': 'Soundgarden'},\n",
       "    {'children': [],\n",
       "     'data': {'band': 'Matt Cameron', 'relation': 'member of band'},\n",
       "     'id': '1756_32',\n",
       "     'name': 'Temple of the Dog'},\n",
       "    {'children': [],\n",
       "     'data': {'band': 'Matt Cameron', 'relation': 'supporting musician'},\n",
       "     'id': '9570_33',\n",
       "     'name': 'Eleven'},\n",
       "    {'children': [],\n",
       "     'data': {'band': 'Matt Cameron', 'relation': 'member of band'},\n",
       "     'id': '11783_34',\n",
       "     'name': 'Queens of the Stone Age'},\n",
       "    {'children': [],\n",
       "     'data': {'band': 'Matt Cameron', 'relation': 'member of band'},\n",
       "     'id': '61972_35',\n",
       "     'name': 'Wellwater Conspiracy'},\n",
       "    {'children': [],\n",
       "     'data': {'band': 'Matt Cameron', 'relation': 'collaboration'},\n",
       "     'id': '65452_36',\n",
       "     'name': 'M.A.C.C.'},\n",
       "    {'children': [],\n",
       "     'data': {'band': 'Matt Cameron', 'relation': 'member of band'},\n",
       "     'id': '353097_37',\n",
       "     'name': 'Tone Dogs'}],\n",
       "   'data': {'band': 'Pearl Jam', 'relation': 'member of band'},\n",
       "   'id': '236585_30',\n",
       "   'name': 'Matt Cameron'},\n",
       "  {'children': [{'children': [],\n",
       "     'data': {'band': 'Dave Krusen', 'relation': 'member of band'},\n",
       "     'id': '2092_39',\n",
       "     'name': 'Candlebox'}],\n",
       "   'data': {'band': 'Pearl Jam', 'relation': 'member of band'},\n",
       "   'id': '236594_38',\n",
       "   'name': 'Dave Krusen'},\n",
       "  {'children': [{'children': [],\n",
       "     'data': {'band': 'Matt Chamberlain', 'relation': 'member of band'},\n",
       "     'id': '54761_41',\n",
       "     'name': 'Critters Buggin'},\n",
       "    {'children': [],\n",
       "     'data': {'band': 'Matt Chamberlain', 'relation': 'member of band'},\n",
       "     'id': '92043_42',\n",
       "     'name': 'Edie Brickell and New Bohemians'}],\n",
       "   'data': {'band': 'Pearl Jam', 'relation': 'member of band'},\n",
       "   'id': '236022_40',\n",
       "   'name': 'Matt Chamberlain'},\n",
       "  {'children': [{'children': [],\n",
       "     'data': {'band': 'Dave Abbruzzese', 'relation': 'member of band'},\n",
       "     'id': '276933_44',\n",
       "     'name': 'Green Romance Orchestra'}],\n",
       "   'data': {'band': 'Pearl Jam', 'relation': 'member of band'},\n",
       "   'id': '236611_43',\n",
       "   'name': 'Dave Abbruzzese'},\n",
       "  {'children': [{'children': [],\n",
       "     'data': {'band': 'Jack Irons', 'relation': 'member of band'},\n",
       "     'id': '4619_46',\n",
       "     'name': 'Redd Kross'},\n",
       "    {'children': [],\n",
       "     'data': {'band': 'Jack Irons', 'relation': 'member of band'},\n",
       "     'id': '9570_47',\n",
       "     'name': 'Eleven'},\n",
       "    {'children': [],\n",
       "     'data': {'band': 'Jack Irons', 'relation': 'member of band'},\n",
       "     'id': '12389_48',\n",
       "     'name': 'Red Hot Chili Peppers'},\n",
       "    {'children': [],\n",
       "     'data': {'band': 'Jack Irons', 'relation': 'member of band'},\n",
       "     'id': '114288_49',\n",
       "     'name': 'Anthym'},\n",
       "    {'children': [],\n",
       "     'data': {'band': 'Jack Irons', 'relation': 'member of band'},\n",
       "     'id': '240013_50',\n",
       "     'name': 'What Is This?'}],\n",
       "   'data': {'band': 'Pearl Jam', 'relation': 'member of band'},\n",
       "   'id': '236612_45',\n",
       "   'name': 'Jack Irons'}],\n",
       " 'data': [],\n",
       " 'id': '190_0',\n",
       " 'name': 'Pearl Jam'}"
      ]
     },
     "execution_count": 2,
     "metadata": {},
     "output_type": "execute_result"
    }
   ],
   "source": [
    "with open('pearl-jam-tree.json') as f:\n",
    "    tree = json.loads(f.read())\n",
    "tree"
   ]
  },
  {
   "cell_type": "code",
   "execution_count": 3,
   "metadata": {
    "collapsed": false
   },
   "outputs": [
    {
     "data": {
      "text/plain": [
       "4"
      ]
     },
     "execution_count": 3,
     "metadata": {},
     "output_type": "execute_result"
    }
   ],
   "source": [
    "len(tree)"
   ]
  },
  {
   "cell_type": "code",
   "execution_count": 4,
   "metadata": {
    "collapsed": false
   },
   "outputs": [
    {
     "data": {
      "text/plain": [
       "dict"
      ]
     },
     "execution_count": 4,
     "metadata": {},
     "output_type": "execute_result"
    }
   ],
   "source": [
    "type(tree)"
   ]
  },
  {
   "cell_type": "code",
   "execution_count": 5,
   "metadata": {
    "collapsed": false
   },
   "outputs": [
    {
     "data": {
      "text/plain": [
       "dict_keys(['name', 'id', 'data', 'children'])"
      ]
     },
     "execution_count": 5,
     "metadata": {},
     "output_type": "execute_result"
    }
   ],
   "source": [
    "tree.keys()"
   ]
  },
  {
   "cell_type": "code",
   "execution_count": 6,
   "metadata": {
    "collapsed": false
   },
   "outputs": [
    {
     "data": {
      "text/plain": [
       "{'children': [{'children': [],\n",
       "   'data': {'band': 'Pearl Jam &amp; Cypress Hill',\n",
       "    'relation': 'collaboration'},\n",
       "   'id': '84_2',\n",
       "   'name': 'Cypress Hill'}],\n",
       " 'data': {'$color': '#f00',\n",
       "  '$lineWidth': 10,\n",
       "  'band': 'Pearl Jam',\n",
       "  'relation': 'collaboration'},\n",
       " 'id': '306208_1',\n",
       " 'name': 'Pearl Jam &amp; Cypress Hill'}"
      ]
     },
     "execution_count": 6,
     "metadata": {},
     "output_type": "execute_result"
    }
   ],
   "source": [
    "tree['children'][0]"
   ]
  },
  {
   "cell_type": "code",
   "execution_count": 7,
   "metadata": {
    "collapsed": true
   },
   "outputs": [],
   "source": [
    "def tree_to_graph(tree):\n",
    "    nodes = extract_nodes(tree)\n",
    "    add_symmetric_links(tree)\n",
    "    return tree"
   ]
  },
  {
   "cell_type": "code",
   "execution_count": 8,
   "metadata": {
    "collapsed": false
   },
   "outputs": [],
   "source": [
    "def extract_nodes(tree):\n",
    "    node = {'id': tree['id'], 'name': tree['name'], 'data': tree['data'], 'adjacencies': []}\n",
    "    nodes = []\n",
    "    for child in tree['children']:\n",
    "        child_nodes = extract_nodes(child)\n",
    "        nodes += child_nodes\n",
    "        node['adjacencies'] += [{'nodeTo': child['id'], 'data': {}}]\n",
    "        for c in nodes:\n",
    "            if c['id'] == child['id']:\n",
    "                c['adjacencies'] += [{'nodeTo': tree['id'], 'data': {}}]\n",
    "    nodes += [node]\n",
    "    return nodes"
   ]
  },
  {
   "cell_type": "code",
   "execution_count": 9,
   "metadata": {
    "collapsed": true
   },
   "outputs": [],
   "source": [
    "small_tree = {\n",
    "        \"id\": \"190_0\",\n",
    "        \"name\": \"Pearl Jam\",\n",
    "\n",
    "        \"data\": {\n",
    "            \"$dim\": 16.759175934208628,\n",
    "            \"$height\": 50,\n",
    "            \"$type\": \"ellipse\",\n",
    "            \"$color\": \"#83548B\",\n",
    "            \"$dim\": 10\n",
    "        },\n",
    "        \"children\": [{\n",
    "            \"id\": \"306208_1\",\n",
    "            \"name\": \"Pearl Jam &amp; Cypress Hill\",\n",
    "            \"data\": {\n",
    "                \"band\": \"Pearl Jam\",\n",
    "                \"relation\": \"collaboration\",\n",
    "                \"$lineWidth\": 10,\n",
    "                \"$color\": \"#f00\"\n",
    "            },\n",
    "            \"children\": [{\n",
    "                \"id\": \"84_2\",\n",
    "                \"name\": \"Cypress Hill\",\n",
    "                \"data\": {\n",
    "                    \"band\": \"Pearl Jam &amp; Cypress Hill\",\n",
    "                    \"relation\": \"collaboration\"\n",
    "                },\n",
    "                \"children\": []\n",
    "            }]\n",
    "        }]}"
   ]
  },
  {
   "cell_type": "code",
   "execution_count": 10,
   "metadata": {
    "collapsed": false
   },
   "outputs": [
    {
     "data": {
      "text/plain": [
       "[{'adjacencies': [{'data': {}, 'nodeTo': '306208_1'}],\n",
       "  'data': {'band': 'Pearl Jam &amp; Cypress Hill',\n",
       "   'relation': 'collaboration'},\n",
       "  'id': '84_2',\n",
       "  'name': 'Cypress Hill'},\n",
       " {'adjacencies': [{'data': {}, 'nodeTo': '84_2'},\n",
       "   {'data': {}, 'nodeTo': '190_0'}],\n",
       "  'data': {'$color': '#f00',\n",
       "   '$lineWidth': 10,\n",
       "   'band': 'Pearl Jam',\n",
       "   'relation': 'collaboration'},\n",
       "  'id': '306208_1',\n",
       "  'name': 'Pearl Jam &amp; Cypress Hill'},\n",
       " {'adjacencies': [{'data': {}, 'nodeTo': '306208_1'}],\n",
       "  'data': {'$color': '#83548B', '$dim': 10, '$height': 50, '$type': 'ellipse'},\n",
       "  'id': '190_0',\n",
       "  'name': 'Pearl Jam'}]"
      ]
     },
     "execution_count": 10,
     "metadata": {},
     "output_type": "execute_result"
    }
   ],
   "source": [
    "extract_nodes(small_tree)"
   ]
  },
  {
   "cell_type": "code",
   "execution_count": 11,
   "metadata": {
    "collapsed": false
   },
   "outputs": [],
   "source": [
    "with open('pearl-jam-graph.json', 'w') as f:\n",
    "    f.write(json.dumps(extract_nodes(tree),\n",
    "                      sort_keys=True, indent=4))"
   ]
  },
  {
   "cell_type": "code",
   "execution_count": null,
   "metadata": {
    "collapsed": true
   },
   "outputs": [],
   "source": []
  }
 ],
 "metadata": {
  "kernelspec": {
   "display_name": "Python 3",
   "language": "python",
   "name": "python3"
  },
  "language_info": {
   "codemirror_mode": {
    "name": "ipython",
    "version": 3
   },
   "file_extension": ".py",
   "mimetype": "text/x-python",
   "name": "python",
   "nbconvert_exporter": "python",
   "pygments_lexer": "ipython3",
   "version": "3.4.2"
  }
 },
 "nbformat": 4,
 "nbformat_minor": 0
}
