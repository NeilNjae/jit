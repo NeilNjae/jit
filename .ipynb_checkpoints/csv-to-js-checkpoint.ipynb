{
 "cells": [
  {
   "cell_type": "code",
   "execution_count": 1,
   "metadata": {
    "collapsed": true
   },
   "outputs": [],
   "source": [
    "import csv\n",
    "import json"
   ]
  },
  {
   "cell_type": "code",
   "execution_count": 21,
   "metadata": {
    "collapsed": true
   },
   "outputs": [],
   "source": [
    "INFILE = \"Test tree.csv\"\n",
    "OUTFILE = \"hypertree-test.js\""
   ]
  },
  {
   "cell_type": "code",
   "execution_count": 22,
   "metadata": {
    "collapsed": false
   },
   "outputs": [
    {
     "name": "stdout",
     "output_type": "stream",
     "text": [
      "[{'Type': '', 'To': '', 'Text': 'Carbon', 'Name': 'c', 'ID': '1'}, {'Type': 'S', 'To': '1', 'Text': 'H', 'Name': 'p', 'ID': '2'}, {'Type': 'S', 'To': '1', 'Text': 'H2', 'Name': 'q', 'ID': '3'}, {'Type': 'S', 'To': '1', 'Text': 'H3', 'Name': 'r', 'ID': '4'}, {'Type': 'S', 'To': '1', 'Text': 'O', 'Name': 's', 'ID': '5'}, {'Type': 'R', 'To': '5', 'Text': 'H4', 'Name': 't', 'ID': '6'}]\n"
     ]
    }
   ],
   "source": [
    "infile = csv.DictReader(open(INFILE))\n",
    "lines = list(infile)\n",
    "print(lines)"
   ]
  },
  {
   "cell_type": "code",
   "execution_count": 19,
   "metadata": {
    "collapsed": false
   },
   "outputs": [
    {
     "data": {
      "text/plain": [
       "[{'adjacencies': [{'data': {'weight': 1}, 'nodeTo': '2'},\n",
       "   {'data': {'weight': 1}, 'nodeTo': '3'},\n",
       "   {'data': {'weight': 1}, 'nodeTo': '4'},\n",
       "   {'data': {'weight': 1}, 'nodeTo': '5'}],\n",
       "  'data': {'text': 'Carbon'},\n",
       "  'id': '1',\n",
       "  'name': 'c'},\n",
       " {'adjacencies': [{'data': {'weight': 1}, 'nodeTo': '1'}],\n",
       "  'data': {'text': 'H'},\n",
       "  'id': '2',\n",
       "  'name': 'p'},\n",
       " {'adjacencies': [{'data': {'weight': 1}, 'nodeTo': '1'}],\n",
       "  'data': {'text': 'H2'},\n",
       "  'id': '3',\n",
       "  'name': 'q'},\n",
       " {'adjacencies': [{'data': {'weight': 1}, 'nodeTo': '1'}],\n",
       "  'data': {'text': 'H3'},\n",
       "  'id': '4',\n",
       "  'name': 'r'},\n",
       " {'adjacencies': [{'data': {'weight': 1}, 'nodeTo': '1'},\n",
       "   {'data': {'$color': '#f00', 'weight': 1}, 'nodeTo': '6'}],\n",
       "  'data': {'text': 'O'},\n",
       "  'id': '5',\n",
       "  'name': 's'},\n",
       " {'adjacencies': [{'data': {'$color': '#f00', 'weight': 1}, 'nodeTo': '5'}],\n",
       "  'data': {'text': 'H4'},\n",
       "  'id': '6',\n",
       "  'name': 't'}]"
      ]
     },
     "execution_count": 19,
     "metadata": {},
     "output_type": "execute_result"
    }
   ],
   "source": [
    "nodes=[]\n",
    "for line in lines:\n",
    "    # update edges depending on what's in each node\n",
    "    node={\"id\": line[\"ID\"], \"name\": line[\"Name\"],\n",
    "         \"data\": {\"text\":line[\"Text\"]},\n",
    "         \"adjacencies\":[]}\n",
    "    nodes.append(node)\n",
    "for line in lines:\n",
    "    if line[\"To\"]:\n",
    "        id_from=line[\"ID\"]\n",
    "        id_to=line[\"To\"]\n",
    "        for node in nodes:\n",
    "            if node[\"id\"] == id_to:\n",
    "                if line[\"Type\"] == 'R':\n",
    "                    node[\"adjacencies\"].append({\"nodeTo\":id_from, \n",
    "                                                \"data\":{\"weight\" : 1, \n",
    "                                                        \"$color\": \"#f00\"}})\n",
    "                else:\n",
    "                    node[\"adjacencies\"].append({\"nodeTo\":id_from, \n",
    "                                                \"data\":{\"weight\" : 1}})\n",
    "            if node[\"id\"] == id_from:\n",
    "                if line[\"Type\"] == 'R':\n",
    "                    node[\"adjacencies\"].append({\"nodeTo\":id_to, \n",
    "                                                \"data\":{\"weight\" : 1,\n",
    "                                                        \"$color\": \"#f00\"}})\n",
    "                else:\n",
    "                    node[\"adjacencies\"].append({\"nodeTo\":id_to, \n",
    "                                                \"data\":{\"weight\" : 1}})\n",
    "                \n",
    "nodes"
   ]
  },
  {
   "cell_type": "code",
   "execution_count": 15,
   "metadata": {
    "collapsed": false,
    "scrolled": false
   },
   "outputs": [
    {
     "name": "stdout",
     "output_type": "stream",
     "text": [
      "[\n",
      "    {\n",
      "        \"adjacencies\": [\n",
      "            {\n",
      "                \"nodeTo\": \"2\",\n",
      "                \"data\": {\n",
      "                    \"weight\": 1\n",
      "                }\n",
      "            },\n",
      "            {\n",
      "                \"nodeTo\": \"3\",\n",
      "                \"data\": {\n",
      "                    \"weight\": 1\n",
      "                }\n",
      "            },\n",
      "            {\n",
      "                \"nodeTo\": \"4\",\n",
      "                \"data\": {\n",
      "                    \"weight\": 1\n",
      "                }\n",
      "            },\n",
      "            {\n",
      "                \"nodeTo\": \"5\",\n",
      "                \"data\": {\n",
      "                    \"weight\": 1\n",
      "                }\n",
      "            }\n",
      "        ],\n",
      "        \"id\": \"1\",\n",
      "        \"data\": {\n",
      "            \"text\": \"Carbon\"\n",
      "        },\n",
      "        \"name\": \"c\"\n",
      "    },\n",
      "    {\n",
      "        \"adjacencies\": [\n",
      "            {\n",
      "                \"nodeTo\": \"1\",\n",
      "                \"data\": {\n",
      "                    \"weight\": 1\n",
      "                }\n",
      "            }\n",
      "        ],\n",
      "        \"id\": \"2\",\n",
      "        \"data\": {\n",
      "            \"text\": \"H\"\n",
      "        },\n",
      "        \"name\": \"p\"\n",
      "    },\n",
      "    {\n",
      "        \"adjacencies\": [\n",
      "            {\n",
      "                \"nodeTo\": \"1\",\n",
      "                \"data\": {\n",
      "                    \"weight\": 1\n",
      "                }\n",
      "            }\n",
      "        ],\n",
      "        \"id\": \"3\",\n",
      "        \"data\": {\n",
      "            \"text\": \"H2\"\n",
      "        },\n",
      "        \"name\": \"q\"\n",
      "    },\n",
      "    {\n",
      "        \"adjacencies\": [\n",
      "            {\n",
      "                \"nodeTo\": \"1\",\n",
      "                \"data\": {\n",
      "                    \"weight\": 1\n",
      "                }\n",
      "            }\n",
      "        ],\n",
      "        \"id\": \"4\",\n",
      "        \"data\": {\n",
      "            \"text\": \"H3\"\n",
      "        },\n",
      "        \"name\": \"r\"\n",
      "    },\n",
      "    {\n",
      "        \"adjacencies\": [\n",
      "            {\n",
      "                \"nodeTo\": \"1\",\n",
      "                \"data\": {\n",
      "                    \"weight\": 1\n",
      "                }\n",
      "            },\n",
      "            {\n",
      "                \"nodeTo\": \"6\",\n",
      "                \"data\": {\n",
      "                    \"weight\": 1,\n",
      "                    \"color\": \"red\"\n",
      "                }\n",
      "            }\n",
      "        ],\n",
      "        \"id\": \"5\",\n",
      "        \"data\": {\n",
      "            \"text\": \"O\"\n",
      "        },\n",
      "        \"name\": \"s\"\n",
      "    },\n",
      "    {\n",
      "        \"adjacencies\": [\n",
      "            {\n",
      "                \"nodeTo\": \"5\",\n",
      "                \"data\": {\n",
      "                    \"weight\": 1,\n",
      "                    \"color\": \"red\"\n",
      "                }\n",
      "            }\n",
      "        ],\n",
      "        \"id\": \"6\",\n",
      "        \"data\": {\n",
      "            \"text\": \"H4\"\n",
      "        },\n",
      "        \"name\": \"t\"\n",
      "    }\n",
      "]\n"
     ]
    }
   ],
   "source": [
    "print(json.dumps(nodes, indent=4))"
   ]
  },
  {
   "cell_type": "code",
   "execution_count": 23,
   "metadata": {
    "collapsed": true
   },
   "outputs": [],
   "source": [
    "with open(OUTFILE, 'w') as f:\n",
    "    with open('hypertree-preamble.txt') as p:\n",
    "        f.write(p.read())\n",
    "    json.dump(nodes, f, indent=4) \n",
    "    with open('hypertree-postamble.txt') as p:\n",
    "        f.write(p.read())\n"
   ]
  },
  {
   "cell_type": "code",
   "execution_count": null,
   "metadata": {
    "collapsed": true
   },
   "outputs": [],
   "source": []
  }
 ],
 "metadata": {
  "kernelspec": {
   "display_name": "Python 3",
   "language": "python",
   "name": "python3"
  },
  "language_info": {
   "codemirror_mode": {
    "name": "ipython",
    "version": 3
   },
   "file_extension": ".py",
   "mimetype": "text/x-python",
   "name": "python",
   "nbconvert_exporter": "python",
   "pygments_lexer": "ipython3",
   "version": "3.4.0"
  }
 },
 "nbformat": 4,
 "nbformat_minor": 0
}
