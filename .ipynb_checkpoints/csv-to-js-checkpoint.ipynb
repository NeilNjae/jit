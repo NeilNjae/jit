{
 "cells": [
  {
   "cell_type": "code",
   "execution_count": 1,
   "metadata": {
    "collapsed": true
   },
   "outputs": [],
   "source": [
    "import csv\n",
    "import json"
   ]
  },
  {
   "cell_type": "code",
   "execution_count": 14,
   "metadata": {
    "collapsed": false
   },
   "outputs": [
    {
     "name": "stdout",
     "output_type": "stream",
     "text": [
      "[{'Type1': '', 'Node_from2': '', 'name': 'Most rational explanation', 'argument': 'Scientific theories do not require large assumptions, so they are more reasonable and more likely to be true.', 'ID': '1', 'node_to': '', 'Node_from1': '', 'type': '', 'Type_2': ''}, {'Type1': '', 'Node_from2': '', 'name': 'not proof', 'argument': 'This does not automatically make them true.', 'ID': '2', 'node_to': '', 'Node_from1': '', 'type': '', 'Type_2': ''}, {'Type1': '', 'Node_from2': '', 'name': ' Victorious despite tradition', 'argument': 'Science has always had more than its fair share of hate and scrutiny [evidence needed], however they still end up holding water and seeming true-er over time.', 'ID': '3', 'node_to': '', 'Node_from1': '', 'type': '', 'Type_2': ''}, {'Type1': '', 'Node_from2': '', 'name': 'Always correcting itself...', 'argument': 'Physics, by nature, is all about correcting hypotheses, so we never get answers.', 'ID': '4', 'node_to': '', 'Node_from1': '', 'type': '', 'Type_2': ''}, {'Type1': ' or dark matter/energy.\"', 'Node_from2': '', 'name': \"can't explain everything\", 'argument': ' \"Physics FAILS to explain: how the big bang broke the laws of physics', 'ID': '5', None: ['', '', '', ''], 'node_to': ' all the totally-not-a-hoax paranormal activity', 'Node_from1': \" the answer to all the 'why's\", 'type': ' how a collection of particles (me) can perceive the universe around it', 'Type_2': ''}, {'Type1': '', 'Node_from2': '', 'name': 'Empirical evidence', 'argument': 'Experiments often back up scientific theories [evidence needed]', 'ID': '6', 'node_to': '', 'Node_from1': '', 'type': '', 'Type_2': ''}, {'Type1': '', 'Node_from2': '', 'name': 'Bad science', 'argument': \"many experiments are biased toward the  hypothesis [examples needed], so evidence isn't always reliable\", 'ID': '7', 'node_to': '', 'Node_from1': '', 'type': '', 'Type_2': ''}, {'Type1': '', 'Node_from2': '', 'name': 'no disproof', 'argument': \"Despite science's best efforts, it cannot completely rule out metaphysics, this could show that metaphysics may exist\", 'ID': '8', 'node_to': '', 'Node_from1': '', 'type': '', 'Type_2': ''}]\n"
     ]
    }
   ],
   "source": [
    "infile = csv.DictReader(open('hypertree.csv'))\n",
    "nodes = list(infile)\n",
    "print(nodes)"
   ]
  },
  {
   "cell_type": "code",
   "execution_count": null,
   "metadata": {
    "collapsed": true
   },
   "outputs": [],
   "source": [
    "for node in nodes:\n",
    "    # update edges depending on what's in each node"
   ]
  },
  {
   "cell_type": "code",
   "execution_count": 15,
   "metadata": {
    "collapsed": false,
    "scrolled": true
   },
   "outputs": [
    {
     "name": "stdout",
     "output_type": "stream",
     "text": [
      "[\n",
      "    {\n",
      "        \"Type1\": \"\",\n",
      "        \"Node_from2\": \"\",\n",
      "        \"name\": \"Most rational explanation\",\n",
      "        \"argument\": \"Scientific theories do not require large assumptions, so they are more reasonable and more likely to be true.\",\n",
      "        \"ID\": \"1\",\n",
      "        \"node_to\": \"\",\n",
      "        \"Node_from1\": \"\",\n",
      "        \"type\": \"\",\n",
      "        \"Type_2\": \"\"\n",
      "    },\n",
      "    {\n",
      "        \"Type1\": \"\",\n",
      "        \"Node_from2\": \"\",\n",
      "        \"name\": \"not proof\",\n",
      "        \"argument\": \"This does not automatically make them true.\",\n",
      "        \"ID\": \"2\",\n",
      "        \"node_to\": \"\",\n",
      "        \"Node_from1\": \"\",\n",
      "        \"type\": \"\",\n",
      "        \"Type_2\": \"\"\n",
      "    },\n",
      "    {\n",
      "        \"Type1\": \"\",\n",
      "        \"Node_from2\": \"\",\n",
      "        \"name\": \" Victorious despite tradition\",\n",
      "        \"argument\": \"Science has always had more than its fair share of hate and scrutiny [evidence needed], however they still end up holding water and seeming true-er over time.\",\n",
      "        \"ID\": \"3\",\n",
      "        \"node_to\": \"\",\n",
      "        \"Node_from1\": \"\",\n",
      "        \"type\": \"\",\n",
      "        \"Type_2\": \"\"\n",
      "    },\n",
      "    {\n",
      "        \"Type1\": \"\",\n",
      "        \"Node_from2\": \"\",\n",
      "        \"name\": \"Always correcting itself...\",\n",
      "        \"argument\": \"Physics, by nature, is all about correcting hypotheses, so we never get answers.\",\n",
      "        \"ID\": \"4\",\n",
      "        \"node_to\": \"\",\n",
      "        \"Node_from1\": \"\",\n",
      "        \"type\": \"\",\n",
      "        \"Type_2\": \"\"\n",
      "    },\n",
      "    {\n",
      "        \"Type1\": \" or dark matter/energy.\\\"\",\n",
      "        \"Node_from2\": \"\",\n",
      "        \"name\": \"can't explain everything\",\n",
      "        \"argument\": \" \\\"Physics FAILS to explain: how the big bang broke the laws of physics\",\n",
      "        \"ID\": \"5\",\n",
      "        \"null\": [\n",
      "            \"\",\n",
      "            \"\",\n",
      "            \"\",\n",
      "            \"\"\n",
      "        ],\n",
      "        \"node_to\": \" all the totally-not-a-hoax paranormal activity\",\n",
      "        \"Node_from1\": \" the answer to all the 'why's\",\n",
      "        \"type\": \" how a collection of particles (me) can perceive the universe around it\",\n",
      "        \"Type_2\": \"\"\n",
      "    },\n",
      "    {\n",
      "        \"Type1\": \"\",\n",
      "        \"Node_from2\": \"\",\n",
      "        \"name\": \"Empirical evidence\",\n",
      "        \"argument\": \"Experiments often back up scientific theories [evidence needed]\",\n",
      "        \"ID\": \"6\",\n",
      "        \"node_to\": \"\",\n",
      "        \"Node_from1\": \"\",\n",
      "        \"type\": \"\",\n",
      "        \"Type_2\": \"\"\n",
      "    },\n",
      "    {\n",
      "        \"Type1\": \"\",\n",
      "        \"Node_from2\": \"\",\n",
      "        \"name\": \"Bad science\",\n",
      "        \"argument\": \"many experiments are biased toward the  hypothesis [examples needed], so evidence isn't always reliable\",\n",
      "        \"ID\": \"7\",\n",
      "        \"node_to\": \"\",\n",
      "        \"Node_from1\": \"\",\n",
      "        \"type\": \"\",\n",
      "        \"Type_2\": \"\"\n",
      "    },\n",
      "    {\n",
      "        \"Type1\": \"\",\n",
      "        \"Node_from2\": \"\",\n",
      "        \"name\": \"no disproof\",\n",
      "        \"argument\": \"Despite science's best efforts, it cannot completely rule out metaphysics, this could show that metaphysics may exist\",\n",
      "        \"ID\": \"8\",\n",
      "        \"node_to\": \"\",\n",
      "        \"Node_from1\": \"\",\n",
      "        \"type\": \"\",\n",
      "        \"Type_2\": \"\"\n",
      "    }\n",
      "]\n"
     ]
    }
   ],
   "source": [
    "print(json.dumps(nodes, indent=4))"
   ]
  },
  {
   "cell_type": "code",
   "execution_count": 13,
   "metadata": {
    "collapsed": true
   },
   "outputs": [],
   "source": [
    "with open('hypertree-test.js', 'w') as f:\n",
    "    with open('hypertree-preamble.txt') as p:\n",
    "        f.write(p.read())\n",
    "    json.dump(nodes, f, indent=4) \n",
    "    with open('hypertree-postamble.txt') as p:\n",
    "        f.write(p.read())\n"
   ]
  },
  {
   "cell_type": "code",
   "execution_count": null,
   "metadata": {
    "collapsed": true
   },
   "outputs": [],
   "source": []
  }
 ],
 "metadata": {
  "kernelspec": {
   "display_name": "Python 3",
   "language": "python",
   "name": "python3"
  },
  "language_info": {
   "codemirror_mode": {
    "name": "ipython",
    "version": 3
   },
   "file_extension": ".py",
   "mimetype": "text/x-python",
   "name": "python",
   "nbconvert_exporter": "python",
   "pygments_lexer": "ipython3",
   "version": "3.4.0"
  }
 },
 "nbformat": 4,
 "nbformat_minor": 0
}
